{
 "cells": [
  {
   "cell_type": "markdown",
   "metadata": {},
   "source": [
    "# Flight engine predictive maintenance\n",
    "Video: https://vimeo.com/160024508\n",
    "\n",
    "Data source: https://c3.nasa.gov/dashlink/resources/140/"
   ]
  },
  {
   "cell_type": "code",
   "execution_count": 1,
   "metadata": {
    "collapsed": true
   },
   "outputs": [],
   "source": [
    "IS_READ_DATA = False      #flag if data is already loaded from CSV files into SQLite"
   ]
  },
  {
   "cell_type": "markdown",
   "metadata": {},
   "source": [
    "## Read flight data\n",
    "\n",
    "/data\n",
    "\n",
    "    /Fault_X                        -> faulty equipments (X = Fan, HPC, HPT, LPC, LPT)\n",
    "    /Nominal_X                      -> equipments without fault\n",
    "    \n",
    "        /EngineYYY                  -> engine number (3 digits)\n",
    "        \n",
    "            /FlightZZZ.csv          -> sensor data (sampled every second)\n",
    "            /EngineHealth.csv       -> engine health data (each row = 1 flight)\n",
    "            /Engine_Fuel_Effic.csv  -> engine fuel efficiency (each row = 1 flight)\n",
    "\n",
    "First, read the data folder structure as a list of tuples:\n",
    "**(path_to_folder, equipment_name (str), is_faulty (int), engine_number (int), list_of_files)**"
   ]
  },
  {
   "cell_type": "code",
   "execution_count": 2,
   "metadata": {
    "collapsed": false,
    "scrolled": false
   },
   "outputs": [
    {
     "name": "stdout",
     "output_type": "stream",
     "text": [
      "[('/nasa/data/Fault_Fan/Engine06', 'Fan', True, 6, ['EngineHealth.csv', 'Engine_Fuel_Effic.csv', 'Flight001.csv', 'Flight002.csv', 'Flight003.csv', 'Flight004.csv', 'Flight005.csv', 'Flight006.csv', 'Flight007.csv', 'Flight008.csv', 'Flight009.csv', 'Flight010.csv', 'Flight011.csv', 'Flight012.csv', 'Flight013.csv', 'Flight014.csv', 'Flight015.csv', 'Flight016.csv', 'Flight017.csv', 'Flight018.csv', 'Flight019.csv', 'Flight020.csv', 'Flight021.csv', 'Flight022.csv', 'Flight023.csv', 'Flight024.csv', 'Flight025.csv', 'Flight026.csv', 'Flight027.csv', 'Flight028.csv', 'Flight029.csv', 'Flight030.csv', 'Flight031.csv', 'Flight032.csv', 'Flight033.csv', 'Flight034.csv', 'Flight035.csv', 'Flight036.csv', 'Flight037.csv', 'Flight038.csv', 'Flight039.csv', 'Flight040.csv', 'Flight041.csv', 'Flight042.csv', 'Flight043.csv', 'Flight044.csv', 'Flight045.csv', 'Flight046.csv', 'Flight047.csv', 'Flight048.csv', 'Flight049.csv', 'Flight050.csv', 'Flight051.csv', 'Flight052.csv', 'Flight053.csv', 'Flight054.csv', 'Flight055.csv', 'Flight056.csv', 'Flight057.csv', 'Flight058.csv', 'Flight059.csv', 'Flight060.csv', 'Flight061.csv', 'Flight062.csv', 'Flight063.csv', 'Flight064.csv', 'Flight065.csv', 'Flight066.csv', 'Flight067.csv', 'Flight068.csv', 'Flight069.csv', 'Flight070.csv', 'Flight071.csv', 'Flight072.csv', 'Flight073.csv', 'Flight074.csv', 'Flight075.csv', 'Flight076.csv', 'Flight077.csv', 'Flight078.csv', 'Flight079.csv', 'Flight080.csv', 'Flight081.csv', 'Flight082.csv', 'Flight083.csv', 'Flight084.csv', 'Flight085.csv', 'Flight086.csv', 'Flight087.csv', 'Flight088.csv', 'Flight089.csv', 'Flight090.csv', 'Flight091.csv', 'Flight092.csv', 'Flight093.csv', 'Flight094.csv', 'Flight095.csv', 'Flight096.csv', 'Flight097.csv', 'Flight098.csv', 'Flight099.csv', 'Flight100.csv', 'Flight101.csv', 'Flight102.csv', 'Flight103.csv', 'Flight104.csv', 'Flight105.csv', 'Flight106.csv', 'Flight107.csv', 'Flight108.csv', 'Flight109.csv', 'Flight110.csv', 'Flight111.csv', 'Flight112.csv', 'Flight113.csv', 'Flight114.csv', 'Flight115.csv', 'Flight116.csv', 'Flight117.csv', 'Flight118.csv', 'Flight119.csv', 'Flight120.csv', 'Flight121.csv', 'Flight122.csv', 'Flight123.csv', 'Flight124.csv', 'Flight125.csv', 'Flight126.csv', 'Flight127.csv', 'Flight128.csv', 'Flight129.csv', 'Flight130.csv', 'Flight131.csv', 'Flight132.csv', 'Flight133.csv', 'Flight134.csv', 'Flight135.csv', 'Flight136.csv', 'Flight137.csv', 'Flight138.csv', 'Flight139.csv', 'Flight140.csv', 'Flight141.csv', 'Flight142.csv', 'Flight143.csv', 'Flight144.csv', 'Flight145.csv', 'Flight146.csv', 'Flight147.csv', 'Flight148.csv', 'Flight149.csv', 'Flight150.csv', 'Flight151.csv', 'Flight152.csv', 'Flight153.csv', 'Flight154.csv', 'Flight155.csv', 'Flight156.csv', 'Flight157.csv', 'Flight158.csv', 'Flight159.csv', 'Flight160.csv', 'Flight161.csv', 'Flight162.csv', 'Flight163.csv', 'Flight164.csv', 'Flight165.csv', 'Flight166.csv', 'Flight167.csv', 'Flight168.csv', 'Flight169.csv', 'Flight170.csv', 'Flight171.csv', 'Flight172.csv', 'Flight173.csv', 'Flight174.csv', 'Flight175.csv', 'Flight176.csv', 'Flight177.csv', 'Flight178.csv', 'Flight179.csv', 'Flight180.csv', 'Flight181.csv', 'Simulation_Info.txt'])]\n"
     ]
    }
   ],
   "source": [
    "from os import walk\n",
    "data_path = '/nasa'\n",
    "\n",
    "f = [(dirpath.replace(\"\\\\\",\"/\"), \\\n",
    "      dirpath.split(\"/\")[-2].split(\"_\")[-1],                 #equipment \\\n",
    "      True if \"Fault\" in dirpath.split(\"/\")[-2] else False,  #is fault? \\\n",
    "      int(dirpath.split(\"/\")[-1].split(\"Engine\", 1)[1]),     #engine num\n",
    "      sorted(filenames)\n",
    "      #filter(lambda fn: \".csv\" in fn, filenames)            #list of csv files\n",
    "     )\n",
    "     for (dirpath, dirnames, filenames) in walk(data_path) \\\n",
    "     if (\"Fault_\" in dirpath or \"Nominal_\" in dirpath) \\\n",
    "     and (\"Engine\" in dirpath) \\\n",
    "     and (\"#extra\" not in dirpath) \\\n",
    "     and len(dirnames) is 0]\n",
    "\n",
    "print f"
   ]
  },
  {
   "cell_type": "markdown",
   "metadata": {},
   "source": [
    "Load data into Spark RDDs"
   ]
  },
  {
   "cell_type": "code",
   "execution_count": 3,
   "metadata": {
    "collapsed": false
   },
   "outputs": [],
   "source": [
    "from pyspark.sql import HiveContext, Row, Window\n",
    "from pyspark.sql.types import *\n",
    "import pyspark.sql.functions as fsql\n",
    "import pandas\n",
    "\n",
    "sqlContext = SQLContext(sc) #alternatively, use SQLContext(sc); SQLContext does not allow window functions\n",
    "\n",
    "def procCsv(path):\n",
    "    ditem = pandas.read_csv(path)\n",
    "    return ditem"
   ]
  },
  {
   "cell_type": "code",
   "execution_count": 134,
   "metadata": {
    "collapsed": false
   },
   "outputs": [
    {
     "data": {
      "text/html": [
       "<div>\n",
       "<table border=\"1\" class=\"dataframe\">\n",
       "  <thead>\n",
       "    <tr style=\"text-align: right;\">\n",
       "      <th></th>\n",
       "      <th></th>\n",
       "      <th>time</th>\n",
       "      <th>alt</th>\n",
       "      <th>MN</th>\n",
       "      <th>TRA</th>\n",
       "      <th>Wf</th>\n",
       "      <th>Fn</th>\n",
       "      <th>SmHPC</th>\n",
       "      <th>SmLPC</th>\n",
       "      <th>SmFan</th>\n",
       "      <th>T48</th>\n",
       "      <th>...</th>\n",
       "      <th>NfR</th>\n",
       "      <th>NcR</th>\n",
       "      <th>BPR</th>\n",
       "      <th>farB</th>\n",
       "      <th>htBleed</th>\n",
       "      <th>PCNfRdmd</th>\n",
       "      <th>W31</th>\n",
       "      <th>W32</th>\n",
       "      <th>eq</th>\n",
       "      <th>isfault</th>\n",
       "    </tr>\n",
       "    <tr>\n",
       "      <th>fl_num</th>\n",
       "      <th>fl_time</th>\n",
       "      <th></th>\n",
       "      <th></th>\n",
       "      <th></th>\n",
       "      <th></th>\n",
       "      <th></th>\n",
       "      <th></th>\n",
       "      <th></th>\n",
       "      <th></th>\n",
       "      <th></th>\n",
       "      <th></th>\n",
       "      <th></th>\n",
       "      <th></th>\n",
       "      <th></th>\n",
       "      <th></th>\n",
       "      <th></th>\n",
       "      <th></th>\n",
       "      <th></th>\n",
       "      <th></th>\n",
       "      <th></th>\n",
       "      <th></th>\n",
       "      <th></th>\n",
       "    </tr>\n",
       "  </thead>\n",
       "  <tbody>\n",
       "    <tr>\n",
       "      <th rowspan=\"5\" valign=\"top\">1</th>\n",
       "      <th>0</th>\n",
       "      <td>0.000</td>\n",
       "      <td>0.0</td>\n",
       "      <td>0.000000</td>\n",
       "      <td>0.0000</td>\n",
       "      <td>1.3797</td>\n",
       "      <td>18116</td>\n",
       "      <td>36.568</td>\n",
       "      <td>7.5047</td>\n",
       "      <td>5.1714</td>\n",
       "      <td>1283.4</td>\n",
       "      <td>...</td>\n",
       "      <td>1259.7</td>\n",
       "      <td>7448.9</td>\n",
       "      <td>9.4616</td>\n",
       "      <td>0.013074</td>\n",
       "      <td>282.28</td>\n",
       "      <td>48.000</td>\n",
       "      <td>16.489</td>\n",
       "      <td>9.8933</td>\n",
       "      <td>Fan</td>\n",
       "      <td>None</td>\n",
       "    </tr>\n",
       "    <tr>\n",
       "      <th>1</th>\n",
       "      <td>1.005</td>\n",
       "      <td>0.0</td>\n",
       "      <td>0.006579</td>\n",
       "      <td>2.6316</td>\n",
       "      <td>1.3801</td>\n",
       "      <td>17791</td>\n",
       "      <td>36.559</td>\n",
       "      <td>7.5053</td>\n",
       "      <td>5.1811</td>\n",
       "      <td>1283.5</td>\n",
       "      <td>...</td>\n",
       "      <td>1259.6</td>\n",
       "      <td>7448.9</td>\n",
       "      <td>9.4646</td>\n",
       "      <td>0.013078</td>\n",
       "      <td>282.28</td>\n",
       "      <td>49.946</td>\n",
       "      <td>16.490</td>\n",
       "      <td>9.8939</td>\n",
       "      <td>Fan</td>\n",
       "      <td>None</td>\n",
       "    </tr>\n",
       "    <tr>\n",
       "      <th>2</th>\n",
       "      <td>2.010</td>\n",
       "      <td>0.0</td>\n",
       "      <td>0.013191</td>\n",
       "      <td>5.2763</td>\n",
       "      <td>1.3820</td>\n",
       "      <td>17479</td>\n",
       "      <td>36.546</td>\n",
       "      <td>7.5053</td>\n",
       "      <td>5.1985</td>\n",
       "      <td>1284.1</td>\n",
       "      <td>...</td>\n",
       "      <td>1259.7</td>\n",
       "      <td>7449.0</td>\n",
       "      <td>9.4706</td>\n",
       "      <td>0.013093</td>\n",
       "      <td>282.29</td>\n",
       "      <td>51.903</td>\n",
       "      <td>16.493</td>\n",
       "      <td>9.8955</td>\n",
       "      <td>Fan</td>\n",
       "      <td>None</td>\n",
       "    </tr>\n",
       "    <tr>\n",
       "      <th>3</th>\n",
       "      <td>3.015</td>\n",
       "      <td>0.0</td>\n",
       "      <td>0.019803</td>\n",
       "      <td>7.9211</td>\n",
       "      <td>1.5087</td>\n",
       "      <td>17944</td>\n",
       "      <td>34.933</td>\n",
       "      <td>7.8705</td>\n",
       "      <td>5.3680</td>\n",
       "      <td>1323.5</td>\n",
       "      <td>...</td>\n",
       "      <td>1277.1</td>\n",
       "      <td>7472.9</td>\n",
       "      <td>9.3710</td>\n",
       "      <td>0.013953</td>\n",
       "      <td>285.23</td>\n",
       "      <td>53.859</td>\n",
       "      <td>16.894</td>\n",
       "      <td>10.1360</td>\n",
       "      <td>Fan</td>\n",
       "      <td>None</td>\n",
       "    </tr>\n",
       "    <tr>\n",
       "      <th>4</th>\n",
       "      <td>4.020</td>\n",
       "      <td>0.0</td>\n",
       "      <td>0.026414</td>\n",
       "      <td>10.5660</td>\n",
       "      <td>1.6288</td>\n",
       "      <td>19378</td>\n",
       "      <td>34.220</td>\n",
       "      <td>8.1368</td>\n",
       "      <td>5.6938</td>\n",
       "      <td>1353.1</td>\n",
       "      <td>...</td>\n",
       "      <td>1320.5</td>\n",
       "      <td>7507.4</td>\n",
       "      <td>9.4188</td>\n",
       "      <td>0.014458</td>\n",
       "      <td>289.42</td>\n",
       "      <td>55.810</td>\n",
       "      <td>17.602</td>\n",
       "      <td>10.5610</td>\n",
       "      <td>Fan</td>\n",
       "      <td>None</td>\n",
       "    </tr>\n",
       "  </tbody>\n",
       "</table>\n",
       "<p>5 rows × 32 columns</p>\n",
       "</div>"
      ],
      "text/plain": [
       "                 time  alt        MN      TRA      Wf     Fn   SmHPC   SmLPC  \\\n",
       "fl_num fl_time                                                                 \n",
       "1      0        0.000  0.0  0.000000   0.0000  1.3797  18116  36.568  7.5047   \n",
       "       1        1.005  0.0  0.006579   2.6316  1.3801  17791  36.559  7.5053   \n",
       "       2        2.010  0.0  0.013191   5.2763  1.3820  17479  36.546  7.5053   \n",
       "       3        3.015  0.0  0.019803   7.9211  1.5087  17944  34.933  7.8705   \n",
       "       4        4.020  0.0  0.026414  10.5660  1.6288  19378  34.220  8.1368   \n",
       "\n",
       "                 SmFan     T48   ...        NfR     NcR     BPR      farB  \\\n",
       "fl_num fl_time                   ...                                        \n",
       "1      0        5.1714  1283.4   ...     1259.7  7448.9  9.4616  0.013074   \n",
       "       1        5.1811  1283.5   ...     1259.6  7448.9  9.4646  0.013078   \n",
       "       2        5.1985  1284.1   ...     1259.7  7449.0  9.4706  0.013093   \n",
       "       3        5.3680  1323.5   ...     1277.1  7472.9  9.3710  0.013953   \n",
       "       4        5.6938  1353.1   ...     1320.5  7507.4  9.4188  0.014458   \n",
       "\n",
       "                htBleed  PCNfRdmd     W31      W32   eq  isfault  \n",
       "fl_num fl_time                                                    \n",
       "1      0         282.28    48.000  16.489   9.8933  Fan     None  \n",
       "       1         282.28    49.946  16.490   9.8939  Fan     None  \n",
       "       2         282.29    51.903  16.493   9.8955  Fan     None  \n",
       "       3         285.23    53.859  16.894  10.1360  Fan     None  \n",
       "       4         289.42    55.810  17.602  10.5610  Fan     None  \n",
       "\n",
       "[5 rows x 32 columns]"
      ]
     },
     "execution_count": 134,
     "metadata": {},
     "output_type": "execute_result"
    }
   ],
   "source": [
    "equip_df.head()"
   ]
  },
  {
   "cell_type": "code",
   "execution_count": 135,
   "metadata": {
    "collapsed": false
   },
   "outputs": [],
   "source": [
    "#Correct time column\n",
    "equip_df['time'] = equip_df['time'].apply(lambda f: int(f/1.005))"
   ]
  },
  {
   "cell_type": "code",
   "execution_count": 136,
   "metadata": {
    "collapsed": false
   },
   "outputs": [
    {
     "data": {
      "text/html": [
       "<div>\n",
       "<table border=\"1\" class=\"dataframe\">\n",
       "  <thead>\n",
       "    <tr style=\"text-align: right;\">\n",
       "      <th></th>\n",
       "      <th></th>\n",
       "      <th>time</th>\n",
       "      <th>alt</th>\n",
       "      <th>MN</th>\n",
       "      <th>TRA</th>\n",
       "      <th>Wf</th>\n",
       "      <th>Fn</th>\n",
       "      <th>SmHPC</th>\n",
       "      <th>SmLPC</th>\n",
       "      <th>SmFan</th>\n",
       "      <th>T48</th>\n",
       "      <th>...</th>\n",
       "      <th>NfR</th>\n",
       "      <th>NcR</th>\n",
       "      <th>BPR</th>\n",
       "      <th>farB</th>\n",
       "      <th>htBleed</th>\n",
       "      <th>PCNfRdmd</th>\n",
       "      <th>W31</th>\n",
       "      <th>W32</th>\n",
       "      <th>eq</th>\n",
       "      <th>isfault</th>\n",
       "    </tr>\n",
       "    <tr>\n",
       "      <th>fl_num</th>\n",
       "      <th>fl_time</th>\n",
       "      <th></th>\n",
       "      <th></th>\n",
       "      <th></th>\n",
       "      <th></th>\n",
       "      <th></th>\n",
       "      <th></th>\n",
       "      <th></th>\n",
       "      <th></th>\n",
       "      <th></th>\n",
       "      <th></th>\n",
       "      <th></th>\n",
       "      <th></th>\n",
       "      <th></th>\n",
       "      <th></th>\n",
       "      <th></th>\n",
       "      <th></th>\n",
       "      <th></th>\n",
       "      <th></th>\n",
       "      <th></th>\n",
       "      <th></th>\n",
       "      <th></th>\n",
       "    </tr>\n",
       "  </thead>\n",
       "  <tbody>\n",
       "    <tr>\n",
       "      <th>39</th>\n",
       "      <th>1036</th>\n",
       "      <td>1036</td>\n",
       "      <td>20627.0</td>\n",
       "      <td>0.68997</td>\n",
       "      <td>94.986</td>\n",
       "      <td>3.4821</td>\n",
       "      <td>23412</td>\n",
       "      <td>24.444</td>\n",
       "      <td>9.443</td>\n",
       "      <td>16.516</td>\n",
       "      <td>1857.8</td>\n",
       "      <td>...</td>\n",
       "      <td>2348.7</td>\n",
       "      <td>8035.9</td>\n",
       "      <td>9.3653</td>\n",
       "      <td>0.023612</td>\n",
       "      <td>355.86</td>\n",
       "      <td>98.337</td>\n",
       "      <td>23.042</td>\n",
       "      <td>13.825</td>\n",
       "      <td>Fan</td>\n",
       "      <td>True</td>\n",
       "    </tr>\n",
       "  </tbody>\n",
       "</table>\n",
       "<p>1 rows × 32 columns</p>\n",
       "</div>"
      ],
      "text/plain": [
       "                time      alt       MN     TRA      Wf     Fn   SmHPC  SmLPC  \\\n",
       "fl_num fl_time                                                                 \n",
       "39     1036     1036  20627.0  0.68997  94.986  3.4821  23412  24.444  9.443   \n",
       "\n",
       "                 SmFan     T48   ...        NfR     NcR     BPR      farB  \\\n",
       "fl_num fl_time                   ...                                        \n",
       "39     1036     16.516  1857.8   ...     2348.7  8035.9  9.3653  0.023612   \n",
       "\n",
       "                htBleed  PCNfRdmd     W31     W32   eq  isfault  \n",
       "fl_num fl_time                                                   \n",
       "39     1036      355.86    98.337  23.042  13.825  Fan     True  \n",
       "\n",
       "[1 rows x 32 columns]"
      ]
     },
     "execution_count": 136,
     "metadata": {},
     "output_type": "execute_result"
    }
   ],
   "source": [
    "#For validation, display moment of occurence of fault (if any)\n",
    "equip_df.query('isfault == True')[1:2]"
   ]
  },
  {
   "cell_type": "markdown",
   "metadata": {},
   "source": [
    "# Feature engineering"
   ]
  },
  {
   "cell_type": "markdown",
   "metadata": {},
   "source": [
    "Create feature **iscruise** - True if the altitude is 35000 feet"
   ]
  },
  {
   "cell_type": "code",
   "execution_count": 137,
   "metadata": {
    "collapsed": true
   },
   "outputs": [],
   "source": [
    "from numpy import where\n",
    "equip_df['iscruise'] = where(equip_df['alt']==35000, True, False)"
   ]
  },
  {
   "cell_type": "markdown",
   "metadata": {},
   "source": [
    "Group by 5-second windows and compute secondary parameters"
   ]
  },
  {
   "cell_type": "code",
   "execution_count": 138,
   "metadata": {
    "collapsed": false
   },
   "outputs": [],
   "source": [
    "from numpy import number\n",
    "numeric_df = equip_df.select_dtypes(include=[number])"
   ]
  },
  {
   "cell_type": "code",
   "execution_count": 291,
   "metadata": {
    "collapsed": false
   },
   "outputs": [
    {
     "name": "stderr",
     "output_type": "stream",
     "text": [
      "/opt/anaconda/lib/python2.7/site-packages/ipykernel/__main__.py:3: SettingWithCopyWarning: \n",
      "A value is trying to be set on a copy of a slice from a DataFrame.\n",
      "Try using .loc[row_indexer,col_indexer] = value instead\n",
      "\n",
      "See the caveats in the documentation: http://pandas.pydata.org/pandas-docs/stable/indexing.html#indexing-view-versus-copy\n",
      "  app.launch_new_instance()\n"
     ]
    }
   ],
   "source": [
    "for fl_num in set(map(lambda (fl_num, pos): fl_num, numeric_df.index.values)):\n",
    "    one_df = numeric_df.ix[fl_num]\n",
    "    one_df['twindow'] = one_df['time'] // 5\n",
    "    #a = one_df.rolling(window=10).mean()\n",
    "    a = one_df.groupby(['twindow']).corr()\n",
    "    break"
   ]
  },
  {
   "cell_type": "code",
   "execution_count": 295,
   "metadata": {
    "collapsed": false
   },
   "outputs": [
    {
     "data": {
      "text/html": [
       "<div>\n",
       "<table border=\"1\" class=\"dataframe\">\n",
       "  <thead>\n",
       "    <tr style=\"text-align: right;\">\n",
       "      <th></th>\n",
       "      <th></th>\n",
       "      <th>BPR</th>\n",
       "      <th>Fn</th>\n",
       "      <th>MN</th>\n",
       "      <th>Nc</th>\n",
       "      <th>NcR</th>\n",
       "      <th>Nf</th>\n",
       "      <th>NfR</th>\n",
       "      <th>P15</th>\n",
       "      <th>P2</th>\n",
       "      <th>P30</th>\n",
       "      <th>...</th>\n",
       "      <th>TRA</th>\n",
       "      <th>W31</th>\n",
       "      <th>W32</th>\n",
       "      <th>Wf</th>\n",
       "      <th>alt</th>\n",
       "      <th>epr</th>\n",
       "      <th>farB</th>\n",
       "      <th>htBleed</th>\n",
       "      <th>phi</th>\n",
       "      <th>time</th>\n",
       "    </tr>\n",
       "    <tr>\n",
       "      <th>twindow</th>\n",
       "      <th></th>\n",
       "      <th></th>\n",
       "      <th></th>\n",
       "      <th></th>\n",
       "      <th></th>\n",
       "      <th></th>\n",
       "      <th></th>\n",
       "      <th></th>\n",
       "      <th></th>\n",
       "      <th></th>\n",
       "      <th></th>\n",
       "      <th></th>\n",
       "      <th></th>\n",
       "      <th></th>\n",
       "      <th></th>\n",
       "      <th></th>\n",
       "      <th></th>\n",
       "      <th></th>\n",
       "      <th></th>\n",
       "      <th></th>\n",
       "      <th></th>\n",
       "      <th></th>\n",
       "    </tr>\n",
       "  </thead>\n",
       "  <tbody>\n",
       "    <tr>\n",
       "      <th rowspan=\"5\" valign=\"top\">0</th>\n",
       "      <th>BPR</th>\n",
       "      <td>1.000000</td>\n",
       "      <td>-0.339781</td>\n",
       "      <td>-0.668873</td>\n",
       "      <td>-0.578808</td>\n",
       "      <td>-0.614291</td>\n",
       "      <td>-0.510475</td>\n",
       "      <td>-0.510890</td>\n",
       "      <td>-0.518604</td>\n",
       "      <td>-0.630740</td>\n",
       "      <td>-0.621847</td>\n",
       "      <td>...</td>\n",
       "      <td>-0.668860</td>\n",
       "      <td>-0.576128</td>\n",
       "      <td>-0.575874</td>\n",
       "      <td>-0.692383</td>\n",
       "      <td>NaN</td>\n",
       "      <td>-0.652224</td>\n",
       "      <td>-0.765678</td>\n",
       "      <td>-0.616654</td>\n",
       "      <td>-0.779664</td>\n",
       "      <td>-0.668647</td>\n",
       "    </tr>\n",
       "    <tr>\n",
       "      <th>Fn</th>\n",
       "      <td>-0.339781</td>\n",
       "      <td>1.000000</td>\n",
       "      <td>0.580523</td>\n",
       "      <td>0.914101</td>\n",
       "      <td>0.901422</td>\n",
       "      <td>0.932776</td>\n",
       "      <td>0.932685</td>\n",
       "      <td>0.926989</td>\n",
       "      <td>0.777709</td>\n",
       "      <td>0.897848</td>\n",
       "      <td>...</td>\n",
       "      <td>0.580555</td>\n",
       "      <td>0.914305</td>\n",
       "      <td>0.914467</td>\n",
       "      <td>0.863106</td>\n",
       "      <td>NaN</td>\n",
       "      <td>0.897843</td>\n",
       "      <td>0.814246</td>\n",
       "      <td>0.900593</td>\n",
       "      <td>0.802226</td>\n",
       "      <td>0.579994</td>\n",
       "    </tr>\n",
       "    <tr>\n",
       "      <th>MN</th>\n",
       "      <td>-0.668873</td>\n",
       "      <td>0.580523</td>\n",
       "      <td>1.000000</td>\n",
       "      <td>0.858580</td>\n",
       "      <td>0.869178</td>\n",
       "      <td>0.834536</td>\n",
       "      <td>0.834693</td>\n",
       "      <td>0.843197</td>\n",
       "      <td>0.962041</td>\n",
       "      <td>0.872046</td>\n",
       "      <td>...</td>\n",
       "      <td>1.000000</td>\n",
       "      <td>0.858658</td>\n",
       "      <td>0.858464</td>\n",
       "      <td>0.889479</td>\n",
       "      <td>NaN</td>\n",
       "      <td>0.860256</td>\n",
       "      <td>0.898994</td>\n",
       "      <td>0.869704</td>\n",
       "      <td>0.900469</td>\n",
       "      <td>1.000000</td>\n",
       "    </tr>\n",
       "    <tr>\n",
       "      <th>Nc</th>\n",
       "      <td>-0.578808</td>\n",
       "      <td>0.914101</td>\n",
       "      <td>0.858580</td>\n",
       "      <td>1.000000</td>\n",
       "      <td>0.999011</td>\n",
       "      <td>0.996644</td>\n",
       "      <td>0.996683</td>\n",
       "      <td>0.997397</td>\n",
       "      <td>0.963595</td>\n",
       "      <td>0.998523</td>\n",
       "      <td>...</td>\n",
       "      <td>0.858600</td>\n",
       "      <td>0.999993</td>\n",
       "      <td>0.999993</td>\n",
       "      <td>0.988897</td>\n",
       "      <td>NaN</td>\n",
       "      <td>0.995163</td>\n",
       "      <td>0.966974</td>\n",
       "      <td>0.998874</td>\n",
       "      <td>0.960932</td>\n",
       "      <td>0.858232</td>\n",
       "    </tr>\n",
       "    <tr>\n",
       "      <th>NcR</th>\n",
       "      <td>-0.614291</td>\n",
       "      <td>0.901422</td>\n",
       "      <td>0.869178</td>\n",
       "      <td>0.999011</td>\n",
       "      <td>1.000000</td>\n",
       "      <td>0.992019</td>\n",
       "      <td>0.992080</td>\n",
       "      <td>0.993248</td>\n",
       "      <td>0.967773</td>\n",
       "      <td>0.999950</td>\n",
       "      <td>...</td>\n",
       "      <td>0.869195</td>\n",
       "      <td>0.998867</td>\n",
       "      <td>0.998851</td>\n",
       "      <td>0.994522</td>\n",
       "      <td>NaN</td>\n",
       "      <td>0.998171</td>\n",
       "      <td>0.977345</td>\n",
       "      <td>0.999996</td>\n",
       "      <td>0.972280</td>\n",
       "      <td>0.868831</td>\n",
       "    </tr>\n",
       "  </tbody>\n",
       "</table>\n",
       "<p>5 rows × 30 columns</p>\n",
       "</div>"
      ],
      "text/plain": [
       "                  BPR        Fn        MN        Nc       NcR        Nf  \\\n",
       "twindow                                                                   \n",
       "0       BPR  1.000000 -0.339781 -0.668873 -0.578808 -0.614291 -0.510475   \n",
       "        Fn  -0.339781  1.000000  0.580523  0.914101  0.901422  0.932776   \n",
       "        MN  -0.668873  0.580523  1.000000  0.858580  0.869178  0.834536   \n",
       "        Nc  -0.578808  0.914101  0.858580  1.000000  0.999011  0.996644   \n",
       "        NcR -0.614291  0.901422  0.869178  0.999011  1.000000  0.992019   \n",
       "\n",
       "                  NfR       P15        P2       P30    ...          TRA  \\\n",
       "twindow                                                ...                \n",
       "0       BPR -0.510890 -0.518604 -0.630740 -0.621847    ...    -0.668860   \n",
       "        Fn   0.932685  0.926989  0.777709  0.897848    ...     0.580555   \n",
       "        MN   0.834693  0.843197  0.962041  0.872046    ...     1.000000   \n",
       "        Nc   0.996683  0.997397  0.963595  0.998523    ...     0.858600   \n",
       "        NcR  0.992080  0.993248  0.967773  0.999950    ...     0.869195   \n",
       "\n",
       "                  W31       W32        Wf  alt       epr      farB   htBleed  \\\n",
       "twindow                                                                        \n",
       "0       BPR -0.576128 -0.575874 -0.692383  NaN -0.652224 -0.765678 -0.616654   \n",
       "        Fn   0.914305  0.914467  0.863106  NaN  0.897843  0.814246  0.900593   \n",
       "        MN   0.858658  0.858464  0.889479  NaN  0.860256  0.898994  0.869704   \n",
       "        Nc   0.999993  0.999993  0.988897  NaN  0.995163  0.966974  0.998874   \n",
       "        NcR  0.998867  0.998851  0.994522  NaN  0.998171  0.977345  0.999996   \n",
       "\n",
       "                  phi      time  \n",
       "twindow                          \n",
       "0       BPR -0.779664 -0.668647  \n",
       "        Fn   0.802226  0.579994  \n",
       "        MN   0.900469  1.000000  \n",
       "        Nc   0.960932  0.858232  \n",
       "        NcR  0.972280  0.868831  \n",
       "\n",
       "[5 rows x 30 columns]"
      ]
     },
     "execution_count": 295,
     "metadata": {},
     "output_type": "execute_result"
    }
   ],
   "source": [
    "a.head()"
   ]
  },
  {
   "cell_type": "code",
   "execution_count": 271,
   "metadata": {
    "collapsed": false
   },
   "outputs": [],
   "source": [
    "import itertools\n",
    "col_list = list(a.columns.values)\n",
    "col_pairs = [(i,j) for i,j in itertools.product(col_list, col_list) if i != j]"
   ]
  },
  {
   "cell_type": "code",
   "execution_count": 284,
   "metadata": {
    "collapsed": false
   },
   "outputs": [],
   "source": [
    "from numpy import tril\n",
    "a.loc[:,:] =  tril(a, k=-1)\n",
    "ccor = a.stack()"
   ]
  },
  {
   "cell_type": "markdown",
   "metadata": {},
   "source": [
    "# Model 1: compare cruise-level parameters for two flights\n",
    "All records (frequency = second) in the respective two flights are considered. <br>\n",
    "Records in the first flight are marked with target = 0, others with target = 1. <br>\n",
    "A classification model is fit. The accuracy of the fit indicates whether a difference can be inferred between the two samples."
   ]
  },
  {
   "cell_type": "code",
   "execution_count": null,
   "metadata": {
    "collapsed": false
   },
   "outputs": [],
   "source": [
    "from numpy import array\n",
    "FLIGHT_1 = 1\n",
    "FLIGHT_2 = 5\n",
    "\n",
    "#remove non-numeric fields\n",
    "mod1 = equip_df.query('fl_num==' + str(FLIGHT_1) + ' or fl_num==' + str(FLIGHT_2))\n",
    "\n",
    "mod1.ix[FLIGHT_1:FLIGHT_1,'target'] = 0\n",
    "mod1.ix[FLIGHT_2:FLIGHT_2,'target'] = 1\n",
    "target = mod1['target']\n",
    "\n",
    "mod1 = mod1.drop(['time','eq','engine_num','isfault','iscruise','target'], axis=1)"
   ]
  },
  {
   "cell_type": "code",
   "execution_count": null,
   "metadata": {
    "collapsed": false
   },
   "outputs": [],
   "source": [
    "print 'Training records with target=0: ' + str(mod1[mod1['target']==0].shape[0])\n",
    "print 'Training records with target=1: ' + str(mod1[mod1['target']==1].shape[0])\n",
    "print 'Total training records: ' + str(mod1.shape[0])"
   ]
  },
  {
   "cell_type": "code",
   "execution_count": null,
   "metadata": {
    "collapsed": false,
    "scrolled": false
   },
   "outputs": [],
   "source": [
    "from sklearn.tree import DecisionTreeClassifier\n",
    "from sklearn import metrics\n",
    "\n",
    "# fit a CART model to the data\n",
    "model = DecisionTreeClassifier()\n",
    "model.fit(mod1, target)\n",
    "\n",
    "# make predictions\n",
    "expected = target\n",
    "predicted = model.predict(mod1)\n",
    "\n",
    "#put target & predicted values back to \n",
    "mod1['target'] = target\n",
    "mod1['predicted'] = predicted\n",
    "\n",
    "# summarize the fit of the model\n",
    "#print(metrics.classification_report(expected, predicted))\n",
    "#print(metrics.confusion_matrix(expected, predicted))\n",
    "print 'Accuracy: ' + str(metrics.accuracy_score(expected, predicted) * 100) + '%'"
   ]
  },
  {
   "cell_type": "markdown",
   "metadata": {},
   "source": [
    "Although the accuracy of fit is high, no explanatory variables seems to correlate well with the target."
   ]
  },
  {
   "cell_type": "code",
   "execution_count": null,
   "metadata": {
    "collapsed": false
   },
   "outputs": [],
   "source": [
    "import matplotlib.pyplot as plt\n",
    "import matplotlib.image as mpimg\n",
    "%matplotlib inline\n",
    "\n",
    "from numpy import diag\n",
    "\n",
    "#print mod1.columns\n",
    "print mod1.corr()['predicted']\n",
    "#mod1[['alt','predicted']].plot(subplots=True)\n",
    "\n",
    "plt.matshow(diag(mod1.corr()['predicted']))"
   ]
  },
  {
   "cell_type": "code",
   "execution_count": null,
   "metadata": {
    "collapsed": false
   },
   "outputs": [],
   "source": [
    "#wSpec = Window.orderBy(\"time\")\n",
    "#a.select('time', fsql.lag('time', 1).over(wSpec).alias('time_lagged')).take(100)"
   ]
  }
 ],
 "metadata": {
  "kernelspec": {
   "display_name": "Python 2",
   "language": "python",
   "name": "python2"
  },
  "language_info": {
   "codemirror_mode": {
    "name": "ipython",
    "version": 2
   },
   "file_extension": ".py",
   "mimetype": "text/x-python",
   "name": "python",
   "nbconvert_exporter": "python",
   "pygments_lexer": "ipython2",
   "version": "2.7.11"
  }
 },
 "nbformat": 4,
 "nbformat_minor": 0
}
